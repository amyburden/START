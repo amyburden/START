{
 "cells": [
  {
   "cell_type": "code",
   "execution_count": 23,
   "metadata": {
    "collapsed": true
   },
   "outputs": [],
   "source": [
    "import csv\n",
    "import json\n",
    "import os,glob\n",
    "from collections import defaultdict\n",
    "import requests\n",
    "from io import BytesIO\n",
    "%matplotlib inline\n",
    "import matplotlib.pyplot as plt\n",
    "from PIL import Image\n",
    "import numpy as np\n",
    "\n",
    "def read_car_info(filepath):\n",
    "    car_info = []\n",
    "    with open(filepath, 'r') as csvfile:\n",
    "        spamreader = csv.reader(csvfile, delimiter=',')\n",
    "        for row in spamreader:\n",
    "            if row[6]=='' or row[5]=='' or row[2]=='' or row[3]=='' or row[1]=='' or row[4]=='':\n",
    "                continue\n",
    "            car_info.append({\"car_id\":row[1], \"pp_brand_id\":row[2], \"pp_genre_id\":row[3], \"left_behind\":row[5], \"left_front\": row[6], 'chinese':row[4]})\n",
    "    return car_info\n",
    "def read_car_pic(code):\n",
    "    url = 'http://icdn.startcarlife.com/img/'+ code[:4]+'/'+code[4]+'/'+code+'.jpg'\n",
    "    response = requests.get(url)\n",
    "    try:\n",
    "        img = Image.open(BytesIO(response.content))\n",
    "    except:\n",
    "        print (code,\" failed\")\n",
    "        img = None\n",
    "    return img\n",
    "\n",
    "def load_bad_item_from_box(bb_car):\n",
    "    bad_item = []\n",
    "    for item in bb_car:\n",
    "        if len(bb_car[item]) == 1 and bb_car[item][0] == 'error':\n",
    "            bad_item.append(item)\n",
    "    bad_item.sort()\n",
    "    bad_item = [item.split('.')[0] for item in bad_item]\n",
    "    bad_item = [item.split('_')[0] for item in bad_item]\n",
    "    bad_item = [item.split('/')[-1] for item in bad_item]\n",
    "    bad_item = list(set(bad_item))\n",
    "    return bad_item\n",
    "\n",
    "\n"
   ]
  },
  {
   "cell_type": "markdown",
   "metadata": {},
   "source": [
    "## from csv to json"
   ]
  },
  {
   "cell_type": "code",
   "execution_count": 2,
   "metadata": {
    "collapsed": true
   },
   "outputs": [],
   "source": [
    "#audi_info = read_car_info('./audi.csv')\n",
    "#bmw_info = read_car_info('./bmw.csv') #\n",
    "#benz_info = read_car_info('./benz.csv') #48\n",
    "# \n",
    "#info_list = glob.glob('./car_list/*.csv')\n",
    "#info_list.remove('./car_list/all.csv')\n",
    "info_list = ['./car_list/all.csv']\n",
    "car_info = []\n",
    "for item in info_list:\n",
    "    car_info += read_car_info(item)\n",
    "with open('allcar.json', 'w') as f:\n",
    "    for item in car_info:\n",
    "        json.dump(item, f, ensure_ascii=False)\n",
    "        f.write('\\n')"
   ]
  },
  {
   "cell_type": "code",
   "execution_count": 4,
   "metadata": {},
   "outputs": [
    {
     "name": "stdout",
     "output_type": "stream",
     "text": [
      "29098 155\n"
     ]
    }
   ],
   "source": [
    "print len(car_info),len(bad_item)"
   ]
  },
  {
   "cell_type": "code",
   "execution_count": 29,
   "metadata": {},
   "outputs": [
    {
     "data": {
      "text/plain": [
       "{u'car_id': u'341233',\n",
       " u'chinese': u'\\u798f\\u7279',\n",
       " u'left_behind': u'1505597222f3a691',\n",
       " u'left_front': u'150574721a35e421',\n",
       " u'pp_brand_id': u'53',\n",
       " u'pp_genre_id': u'1340'}"
      ]
     },
     "execution_count": 29,
     "metadata": {},
     "output_type": "execute_result"
    }
   ],
   "source": [
    "from io import open\n",
    "car_info = [json.loads(line) for line in open('allcar.json', encoding='gbk')]\n",
    "car_info[0]\n"
   ]
  },
  {
   "cell_type": "code",
   "execution_count": 34,
   "metadata": {},
   "outputs": [
    {
     "name": "stdout",
     "output_type": "stream",
     "text": [
      "{u'pp_brand_id': u'12', u'left_front': u'15046462e556fe61', u'chinese': u'\\u65e5\\u4ea7', u'pp_genre_id': u'60', u'left_behind': u'15044763251ad801', u'car_id': u'432582'}\n"
     ]
    }
   ],
   "source": [
    "for item in car_info:\n",
    "    if item['left_front'] == '15046462e556fe61':\n",
    "        print item\n",
    "        break"
   ]
  },
  {
   "cell_type": "markdown",
   "metadata": {},
   "source": [
    "## from json to jpg"
   ]
  },
  {
   "cell_type": "code",
   "execution_count": 6,
   "metadata": {},
   "outputs": [
    {
     "name": "stdout",
     "output_type": "stream",
     "text": [
      "(u'1507654ec79b60f1', ' failed')\n",
      "(u'150725b8adf0f821', ' failed')\n",
      "(u'1507154a6e788931', ' failed')\n",
      "(u'15083052d10b2621', ' failed')\n",
      "(u'15095392aa193ee1', ' failed')\n",
      "(u'150926cef061d871', ' failed')\n",
      "(u'150985c4389dd441', ' failed')\n",
      "(u'150989c2a46bca31', ' failed')\n",
      "(u'150966c858db0541', ' failed')\n",
      "(u'151080960571f5a1', ' failed')\n",
      "(u'151299a0a8c0aef1', ' failed')\n",
      "(u'160195f10dc7bd51', ' failed')\n",
      "(u'1602852aaa73df91', ' failed')\n",
      "(u'1603536222f199e1', ' failed')\n",
      "(u'1603246229620a21', ' failed')\n",
      "(u'160661987b196c01', ' failed')\n",
      "(u'160651989adca7c1', ' failed')\n",
      "(u'160694da45947251', ' failed')\n",
      "(u'160679da4ad7d811', ' failed')\n",
      "(u'1607236afc3c9731', ' failed')\n",
      "(u'1607956b003e9b01', ' failed')\n"
     ]
    }
   ],
   "source": [
    "from io import open\n",
    "car_info = [json.loads(line) for line in open('allcar.json', encoding='gbk')]\n",
    "car_info[0]\n",
    "i = 0\n",
    "#bad_item\n",
    "with open('./bball.npy') as f:\n",
    "    bb_car = np.load(f).item()\n",
    "bad_item = load_bad_item_from_box(bb_car)\n",
    "\n",
    "for item in car_info:\n",
    "    path = os.path.join('../',item['pp_brand_id'],item['pp_genre_id'])\n",
    "    if not os.path.exists(path):\n",
    "        os.makedirs(path)\n",
    "        print (path)\n",
    "    if not os.path.exists(os.path.join(path,item['car_id']+'_b.jpg')):\n",
    "        if item['car_id'] in bad_item:\n",
    "            #print item['car_id'], ': no car detected'\n",
    "            continue\n",
    "        img = read_car_pic(item['left_front'])\n",
    "        img2 = read_car_pic(item['left_behind'])\n",
    "        if img and img2:\n",
    "            img.save(os.path.join(path,item['car_id']+'.jpg'))\n",
    "            img2.save(os.path.join(path,item['car_id']+'_b.jpg'))\n",
    "            i += 1\n",
    "            if i % 50 == 0:\n",
    "                print('save ',i,' pic')\n",
    "            "
   ]
  },
  {
   "cell_type": "markdown",
   "metadata": {},
   "source": [
    "## detect box in pic and find out bad item"
   ]
  },
  {
   "cell_type": "code",
   "execution_count": 18,
   "metadata": {
    "collapsed": true
   },
   "outputs": [],
   "source": [
    "#filter jpg without car\n",
    "import numpy as np\n",
    "import os\n",
    "import scipy.io\n",
    "import tensorflow as tf\n",
    "from collections import defaultdict\n",
    "from matplotlib import pyplot as plt\n",
    "import PIL.Image as pil_image\n",
    "from keras.models import load_model\n",
    "import json, glob\n",
    "\n",
    "def load_image_into_numpy_array(image):\n",
    "    (im_width, im_height) = image.size\n",
    "    return np.array(image.getdata()).reshape(\n",
    "        (im_height, im_width, 3)).astype(np.uint8)\n",
    "\n",
    "data_dir = '/root/playground/START/car_class/yiche_image/yiche_processed/'\n",
    "TEST_IMAGE_PATHS = []\n",
    "bb_car = defaultdict(list)\n",
    "\n",
    "makes = os.listdir(data_dir)\n",
    "try:\n",
    "    makes.remove('bba')\n",
    "except:\n",
    "    pass\n",
    "for make in makes:\n",
    "    models = os.listdir(os.path.join(data_dir, make))\n",
    "    for model in models:\n",
    "        #pics = glob.glob(os.path.join(data_dir, make, model))\n",
    "        pics = glob.glob(os.path.join(data_dir, make, model)+'/*.jpg')\n",
    "        for pic in pics:\n",
    "            TEST_IMAGE_PATHS.append(pic)\n",
    "TEST_IMAGE_PATHS.sort()\n",
    "\n",
    "detection_graph = tf.Graph()\n",
    "with detection_graph.as_default():\n",
    "    od_graph_def = tf.GraphDef()\n",
    "    with tf.gfile.GFile('../../model/ssd_mobilenet_v1_coco_11_06_2017/frozen_inference_graph.pb', 'rb') as fid:\n",
    "        serialized_graph = fid.read()\n",
    "        od_graph_def.ParseFromString(serialized_graph)\n",
    "        tf.import_graph_def(od_graph_def, name='')"
   ]
  },
  {
   "cell_type": "code",
   "execution_count": 21,
   "metadata": {},
   "outputs": [
    {
     "name": "stdout",
     "output_type": "stream",
     "text": [
      "10000/1906/bl2684.jpg\n"
     ]
    }
   ],
   "source": [
    "for item in TEST_IMAGE_PATHS:\n",
    "    print '/'.join(item.split('/')[-3:])\n",
    "    break\n",
    "    if '/'.join(item.split('/')[-3:]) == '20036/3095/bb119902.jpg':\n",
    "        print item"
   ]
  },
  {
   "cell_type": "code",
   "execution_count": 23,
   "metadata": {
    "collapsed": true
   },
   "outputs": [],
   "source": [
    "#bad_item\n",
    "bb_car = np.load('../../yiche_image/map/yiche_box.npy').item()"
   ]
  },
  {
   "cell_type": "code",
   "execution_count": 25,
   "metadata": {
    "scrolled": true
   },
   "outputs": [
    {
     "name": "stdout",
     "output_type": "stream",
     "text": [
      "20000 image done\n",
      "40000 image done\n"
     ]
    }
   ],
   "source": [
    "j = 0\n",
    "with detection_graph.as_default():\n",
    "    with tf.Session(graph=detection_graph) as sess:\n",
    "        for image_path in TEST_IMAGE_PATHS:\n",
    "            j+=1\n",
    "            if j % 20000 == 0:\n",
    "                np.save('./tmpbox.npy',bb_car)\n",
    "                print j, 'image done'\n",
    "            if len(bb_car['/'.join(image_path.split('/')[-3:])]) > 0:\n",
    "                continue\n",
    "            try:\n",
    "                image = pil_image.open(image_path)\n",
    "                image_np = load_image_into_numpy_array(image)\n",
    "            except:\n",
    "                print 'image size error', image_path\n",
    "                bb_car['/'.join(image_path.split('/')[-3:])].append('error')\n",
    "                continue\n",
    "            image_np_expanded = np.expand_dims(image_np, axis=0)\n",
    "            image_tensor = detection_graph.get_tensor_by_name('image_tensor:0')\n",
    "            boxes = detection_graph.get_tensor_by_name('detection_boxes:0')\n",
    "            scores = detection_graph.get_tensor_by_name('detection_scores:0')\n",
    "            classes = detection_graph.get_tensor_by_name('detection_classes:0')\n",
    "            num_detections = detection_graph.get_tensor_by_name('num_detections:0')\n",
    "            # Actual detection.\n",
    "            (boxes, scores, classes, num_detections) = sess.run(\n",
    "                [boxes, scores, classes, num_detections],\n",
    "                feed_dict={image_tensor: image_np_expanded})\n",
    "            # save bb\n",
    "            for i in range(11):\n",
    "                if scores[0][i] < 0.5:\n",
    "                    if len(bb_car['/'.join(image_path.split('/')[-3:])]) == 0:\n",
    "                        print 'no car detected:', image_path\n",
    "                        bb_car['/'.join(image_path.split('/')[-3:])].append('error')\n",
    "                    break\n",
    "                elif classes[0][i] == 8. or classes[0][i] == 3. or classes[0][i] == 6.:\n",
    "                    bb_car['/'.join(image_path.split('/')[-3:])].append(boxes[0][i])"
   ]
  },
  {
   "cell_type": "code",
   "execution_count": 4,
   "metadata": {
    "collapsed": true
   },
   "outputs": [],
   "source": [
    "np.save('/root/playground/START/car_class/start/bba/yiche_box.npy', bb_car)"
   ]
  },
  {
   "cell_type": "markdown",
   "metadata": {},
   "source": [
    "## delete bad item"
   ]
  },
  {
   "cell_type": "code",
   "execution_count": 28,
   "metadata": {},
   "outputs": [
    {
     "name": "stderr",
     "output_type": "stream",
     "text": [
      "/root/anaconda2/lib/python2.7/site-packages/ipykernel_launcher.py:34: FutureWarning: elementwise comparison failed; returning scalar instead, but in the future will perform elementwise comparison\n",
      "/root/anaconda2/lib/python2.7/site-packages/ipykernel_launcher.py:13: FutureWarning: elementwise comparison failed; returning scalar instead, but in the future will perform elementwise comparison\n",
      "  del sys.path[0]\n"
     ]
    },
    {
     "name": "stdout",
     "output_type": "stream",
     "text": [
      "../115/996/620831.jpg\n",
      "../115/998/680055.jpg\n",
      "../115/998/639327.jpg\n",
      "../47/299/724206.jpg\n",
      "../130/2413/542392.jpg\n",
      "../81/760/245123.jpg\n",
      "../132/1126/501071.jpg\n",
      "../132/1134/742163.jpg\n",
      "../132/1134/533420.jpg\n",
      "../38/244/552241.jpg\n",
      "../38/244/27212.jpg\n",
      "../39/356/805534.jpg\n",
      "../139/1256/472379.jpg\n",
      "../96/865/712337.jpg\n",
      "../96/2357/723250.jpg\n",
      "../96/2357/660685.jpg\n",
      "../140/1261/738181.jpg\n",
      "../44/270/529675.jpg\n",
      "../44/271/741031.jpg\n",
      "../44/271/727072.jpg\n",
      "../44/273/772127.jpg\n",
      "../44/273/568308.jpg\n",
      "../44/273/671178.jpg\n",
      "../44/273/734747.jpg\n",
      "../44/273/772173.jpg\n",
      "../40/2390/230982.jpg\n",
      "../98/867/657926.jpg\n",
      "../97/20209/792496.jpg\n",
      "../107/2359/134575.jpg\n",
      "../107/1154/439979.jpg\n",
      "../73/697/524797.jpg\n",
      "../73/697/785813.jpg\n",
      "../73/697/731301.jpg\n",
      "../73/697/712535.jpg\n",
      "../73/699/759659.jpg\n",
      "../73/699/530868.jpg\n",
      "../73/699/759652.jpg\n",
      "../73/699/462834.jpg\n",
      "../73/1334/767431.jpg\n",
      "../28/197/773016.jpg\n",
      "../28/201/225354.jpg\n",
      "../28/201/706654.jpg\n",
      "../28/2545/673280.jpg\n",
      "../28/203/734800.jpg\n",
      "../28/203/279792.jpg\n",
      "../28/20044/770264.jpg\n",
      "../28/205/532721.jpg\n",
      "../28/205/772069.jpg\n",
      "../28/204/720571.jpg\n",
      "../28/204/809050.jpg\n",
      "../28/204/548035.jpg\n",
      "../28/204/714782.jpg\n",
      "../28/204/719494.jpg\n",
      "../61/1174/715653.jpg\n",
      "../89/805/690499.jpg\n",
      "../89/805/761139.jpg\n",
      "../89/805/679018.jpg\n",
      "../89/806/762538.jpg\n",
      "../89/803/720827.jpg\n",
      "../89/803/701380.jpg\n",
      "../79/761/770170.jpg\n",
      "../79/2400/264073.jpg\n",
      "../79/2400/756758.jpg\n",
      "../79/762/486360.jpg\n",
      "../79/762/731928.jpg\n",
      "../79/762/551118.jpg\n",
      "../79/762/404236.jpg\n",
      "../79/762/543352.jpg\n",
      "../79/762/493617.jpg\n",
      "../79/762/269457.jpg\n",
      "../41/517/505115.jpg\n",
      "../14/598/674347.jpg\n",
      "../129/20194/772000.jpg\n",
      "../56/492/577714.jpg\n",
      "../1148/2384/804815.jpg\n",
      "../9/39/461768.jpg\n",
      "../9/33/475436.jpg\n",
      "../9/31/548600.jpg\n",
      "../9/41/737050.jpg\n",
      "../9/25/471702.jpg\n",
      "../9/1351/723204.jpg\n",
      "../9/24/617865.jpg\n",
      "../9/24/268551.jpg\n",
      "../9/24/565443.jpg\n",
      "../9/1350/788479.jpg\n",
      "../9/1350/492755.jpg\n",
      "../9/26/781843.jpg\n",
      "../9/43/503240.jpg\n",
      "../32/20191/526982.jpg\n",
      "../32/20191/464143.jpg\n",
      "../32/20191/759623.jpg\n",
      "../32/20191/735154.jpg\n",
      "../32/20191/346936.jpg\n",
      "../32/216/430207.jpg\n",
      "../32/214/535488.jpg\n",
      "../32/20168/812910.jpg\n",
      "../32/20168/772845.jpg\n",
      "../32/212/111670.jpg\n",
      "../32/212/672762.jpg\n",
      "../32/213/149633.jpg\n",
      "../68/628/758223.jpg\n",
      "../103/909/797396.jpg\n",
      "../103/908/798701.jpg\n",
      "../54/460/209344.jpg\n",
      "../54/465/774270.jpg\n",
      "../131/1107/668370.jpg\n",
      "../131/1147/553856.jpg\n",
      "../131/1104/785109.jpg\n",
      "../131/20147/701482.jpg\n",
      "../131/20147/683870.jpg\n",
      "../131/20147/816047.jpg\n",
      "../131/20147/472695.jpg\n",
      "../131/2522/708113.jpg\n",
      "../131/2522/752039.jpg\n",
      "../17/109/471720.jpg\n",
      "../17/114/698358.jpg\n",
      "../17/110/677329.jpg\n",
      "../114/994/771082.jpg\n",
      "../114/993/431889.jpg\n",
      "../114/993/719241.jpg\n",
      "../66/614/515938.jpg\n",
      "../66/616/501804.jpg\n",
      "../66/616/717285.jpg\n",
      "../66/616/474531.jpg\n",
      "../66/616/663446.jpg\n",
      "../66/616/652934.jpg\n",
      "../4/20028/742411.jpg\n",
      "../4/20028/791760.jpg\n",
      "../4/97/683876.jpg\n",
      "../4/20133/720664.jpg\n",
      "../35/923/612091.jpg\n",
      "../19/132/740848.jpg\n",
      "../19/131/641975.jpg\n",
      "../19/888/816212.jpg\n",
      "../19/888/763118.jpg\n",
      "../19/133/684301.jpg\n",
      "../110/978/406035.jpg\n",
      "../110/978/501449.jpg\n",
      "../110/979/587610.jpg\n",
      "../59/527/744655.jpg\n",
      "../59/548/43184.jpg\n",
      "../59/550/414326.jpg\n",
      "../84/1124/666702.jpg\n",
      "../84/1120/744096.jpg\n",
      "../84/1120/549355.jpg\n",
      "../84/1125/477676.jpg\n",
      "../84/1125/747450.jpg\n",
      "../84/1125/197419.jpg\n",
      "../84/946/716522.jpg\n",
      "../84/946/405389.jpg\n",
      "../84/768/462298.jpg\n",
      "../3/3/720586.jpg\n",
      "../105/1321/480678.jpg\n",
      "../105/1321/438916.jpg\n",
      "../105/1316/365634.jpg\n",
      "../105/1326/812248.jpg\n",
      "../105/1326/761094.jpg\n",
      "../105/974/810804.jpg\n",
      "../104/920/686846.jpg\n",
      "../104/1150/533313.jpg\n",
      "../74/710/576935.jpg\n",
      "../46/321/590018.jpg\n",
      "../72/686/634853.jpg\n",
      "../72/688/802711.jpg\n",
      "../72/688/425907.jpg\n",
      "../72/691/601404.jpg\n",
      "../51/20200/593760.jpg\n",
      "../51/1015/790758.jpg\n",
      "../51/2363/771178.jpg\n",
      "../51/415/761492.jpg\n",
      "../51/415/747567.jpg\n",
      "../51/415/748856.jpg\n",
      "../51/415/509956.jpg\n",
      "../51/415/442840.jpg\n",
      "../51/415/436197.jpg\n"
     ]
    }
   ],
   "source": [
    "path = '/root/playground/START/car_class/yiche_image/yiche_processed/'\n",
    "path = '../'\n",
    "makes = os.listdir(path)\n",
    "makes.remove('bba')\n",
    "bb_car = np.load('./bball.npy').item()\n",
    "bad_item = load_bad_item_from_box(bb_car)\n",
    "for make in makes:\n",
    "    models = os.listdir(os.path.join(path, make))\n",
    "    for model in models:\n",
    "        pics = glob.glob(os.path.join(path, make, model)+'/*.jpg')\n",
    "        for pic in pics:\n",
    "            car_id = pic.split('/')[-1].split('_')[0].split('.')[0]\n",
    "            if len(bb_car['/'.join(pic.split('/')[-3:])])==1 and bb_car['/'.join(pic.split('/')[-3:])][0] == 'error':\n",
    "                os.remove(pic)\n",
    "                print pic"
   ]
  },
  {
   "cell_type": "code",
   "execution_count": null,
   "metadata": {
    "collapsed": true
   },
   "outputs": [],
   "source": []
  }
 ],
 "metadata": {
  "anaconda-cloud": {},
  "kernelspec": {
   "display_name": "Python 2",
   "language": "python",
   "name": "python2"
  },
  "language_info": {
   "codemirror_mode": {
    "name": "ipython",
    "version": 2
   },
   "file_extension": ".py",
   "mimetype": "text/x-python",
   "name": "python",
   "nbconvert_exporter": "python",
   "pygments_lexer": "ipython2",
   "version": "2.7.13"
  }
 },
 "nbformat": 4,
 "nbformat_minor": 1
}
