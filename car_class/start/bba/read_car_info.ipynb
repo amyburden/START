{
 "cells": [
  {
   "cell_type": "code",
   "execution_count": 5,
   "metadata": {
    "collapsed": false
   },
   "outputs": [],
   "source": [
    "import csv\n",
    "import os\n",
    "from collections import defaultdict\n",
    "import json\n",
    "import requests\n",
    "from io import BytesIO\n",
    "%matplotlib inline\n",
    "import matplotlib.pyplot as plt\n",
    "from PIL import Image\n",
    "import glob\n",
    "\n",
    "\n",
    "def read_car_info(filepath):\n",
    "    car_info = []\n",
    "    with open(filepath, 'r') as csvfile:\n",
    "        spamreader = csv.reader(csvfile, delimiter=',')\n",
    "        for row in spamreader:\n",
    "            if row[0] == '' or row[6]=='' or row[5]=='':\n",
    "                continue\n",
    "            car_info.append({\"car_id\":row[1], \"pp_brand_id\":row[2], \"pp_genre_id\":row[3], \"left_behind\":row[5], \"left_front\": row[6], 'chinese':row[4]})\n",
    "    return car_info\n",
    "def read_car_pic(code):\n",
    "    url = 'http://icdn.startcarlife.com/img/'+ code[:4]+'/'+code[4]+'/'+code+'.jpg'\n",
    "    response = requests.get(url)\n",
    "    try:\n",
    "        img = Image.open(BytesIO(response.content))\n",
    "    except:\n",
    "        print (code,\" failed\")\n",
    "        img = None\n",
    "    return img"
   ]
  },
  {
   "cell_type": "code",
   "execution_count": 9,
   "metadata": {
    "collapsed": false
   },
   "outputs": [],
   "source": [
    "#audi_info = read_car_info('./audi.csv')\n",
    "#bmw_info = read_car_info('./bmw.csv') #\n",
    "#benz_info = read_car_info('./benz.csv') #48\n",
    "#info_list = glob.glob('*.csv')\n",
    "car_info = []\n",
    "for item in info_list:\n",
    "    car_info += read_car_info(item)\n",
    "with open('10car.json', 'w') as f:\n",
    "    for item in car_info:\n",
    "        json.dump(item, f, ensure_ascii=False)\n",
    "        f.write('\\n')"
   ]
  },
  {
   "cell_type": "code",
   "execution_count": 6,
   "metadata": {
    "collapsed": false
   },
   "outputs": [
    {
     "name": "stdout",
     "output_type": "stream",
     "text": [
      "1603536222f199e1  failed\n",
      "1603246229620a21  failed\n",
      "150725b8adf0f821  failed\n",
      "160195f10dc7bd51  failed\n",
      "1507654ec79b60f1  failed\n",
      "15095392aa193ee1  failed\n",
      "150989c2a46bca31  failed\n",
      "150966c858db0541  failed\n",
      "151080960571f5a1  failed\n",
      "160694da45947251  failed\n",
      "160679da4ad7d811  failed\n"
     ]
    }
   ],
   "source": [
    "car_info = [json.loads(line) for line in open('10car.json')]\n",
    "car_info[0]\n",
    "i = 0\n",
    "for item in car_info:\n",
    "    path = os.path.join('../',item['pp_brand_id'],item['pp_genre_id'])\n",
    "    if not os.path.exists(path):\n",
    "        os.makedirs(path)\n",
    "        print (path)\n",
    "    if not os.path.exists(os.path.join(path,item['car_id']+'_b.jpg')):\n",
    "        img = read_car_pic(item['left_front'])\n",
    "        img2 = read_car_pic(item['left_behind'])\n",
    "        if img and img2:\n",
    "            img.save(os.path.join(path,item['car_id']+'.jpg'))\n",
    "            img2.save(os.path.join(path,item['car_id']+'_b.jpg'))\n",
    "            i += 1\n",
    "            if i % 50 == 0:\n",
    "                print('save ',i,' pic')\n",
    "            "
   ]
  },
  {
   "cell_type": "code",
   "execution_count": null,
   "metadata": {
    "collapsed": true
   },
   "outputs": [],
   "source": []
  }
 ],
 "metadata": {
  "anaconda-cloud": {},
  "kernelspec": {
   "display_name": "Python [conda env:Anaconda3]",
   "language": "python",
   "name": "conda-env-Anaconda3-py"
  },
  "language_info": {
   "codemirror_mode": {
    "name": "ipython",
    "version": 3
   },
   "file_extension": ".py",
   "mimetype": "text/x-python",
   "name": "python",
   "nbconvert_exporter": "python",
   "pygments_lexer": "ipython3",
   "version": "3.5.2"
  }
 },
 "nbformat": 4,
 "nbformat_minor": 1
}
